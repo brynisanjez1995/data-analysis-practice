{
 "cells": [
  {
   "cell_type": "code",
   "execution_count": 1,
   "metadata": {},
   "outputs": [],
   "source": [
    "import pandas as pd"
   ]
  },
  {
   "cell_type": "code",
   "execution_count": 2,
   "metadata": {},
   "outputs": [],
   "source": [
    "#read data from file\n",
    "read_data = pd.read_csv(\"data/worldstop10yt.csv\")"
   ]
  },
  {
   "cell_type": "code",
   "execution_count": 3,
   "metadata": {},
   "outputs": [
    {
     "data": {
      "text/html": [
       "<div>\n",
       "<style scoped>\n",
       "    .dataframe tbody tr th:only-of-type {\n",
       "        vertical-align: middle;\n",
       "    }\n",
       "\n",
       "    .dataframe tbody tr th {\n",
       "        vertical-align: top;\n",
       "    }\n",
       "\n",
       "    .dataframe thead th {\n",
       "        text-align: right;\n",
       "    }\n",
       "</style>\n",
       "<table border=\"1\" class=\"dataframe\">\n",
       "  <thead>\n",
       "    <tr style=\"text-align: right;\">\n",
       "      <th></th>\n",
       "      <th>Channel Name</th>\n",
       "      <th>Subscribers</th>\n",
       "      <th>No. of Videos</th>\n",
       "      <th>No. of Views</th>\n",
       "      <th>Category</th>\n",
       "      <th>Audience</th>\n",
       "      <th>Start Date</th>\n",
       "      <th>Email</th>\n",
       "      <th>Current Location</th>\n",
       "    </tr>\n",
       "  </thead>\n",
       "  <tbody>\n",
       "    <tr>\n",
       "      <th>0</th>\n",
       "      <td>Vlad and Niki</td>\n",
       "      <td>87M</td>\n",
       "      <td>487</td>\n",
       "      <td>6.838135e+10</td>\n",
       "      <td>Children Adventure</td>\n",
       "      <td>Children</td>\n",
       "      <td>23-Apr-2018</td>\n",
       "      <td>vladandniki@underscoretalent.com</td>\n",
       "      <td>United States</td>\n",
       "    </tr>\n",
       "    <tr>\n",
       "      <th>1</th>\n",
       "      <td>Zee Music Company</td>\n",
       "      <td>88.2M</td>\n",
       "      <td>6968</td>\n",
       "      <td>5.035302e+10</td>\n",
       "      <td>Music</td>\n",
       "      <td>Adults</td>\n",
       "      <td>12-Mar-2014</td>\n",
       "      <td>NaN</td>\n",
       "      <td>India</td>\n",
       "    </tr>\n",
       "    <tr>\n",
       "      <th>2</th>\n",
       "      <td>WWE</td>\n",
       "      <td>91.1M</td>\n",
       "      <td>64096</td>\n",
       "      <td>7.162075e+10</td>\n",
       "      <td>Wrestling</td>\n",
       "      <td>Adults and Old age</td>\n",
       "      <td>11-May-2007</td>\n",
       "      <td>NaN</td>\n",
       "      <td>United States</td>\n",
       "    </tr>\n",
       "    <tr>\n",
       "      <th>3</th>\n",
       "      <td>Like Nastya</td>\n",
       "      <td>101M</td>\n",
       "      <td>417</td>\n",
       "      <td>8.397613e+10</td>\n",
       "      <td>Kids Adventures</td>\n",
       "      <td>Children</td>\n",
       "      <td>6-Dec-2016</td>\n",
       "      <td>info@likenastya.com</td>\n",
       "      <td>United States</td>\n",
       "    </tr>\n",
       "    <tr>\n",
       "      <th>4</th>\n",
       "      <td>Kids Diana Show</td>\n",
       "      <td>101M</td>\n",
       "      <td>1021</td>\n",
       "      <td>8.209697e+10</td>\n",
       "      <td>Children Adventure</td>\n",
       "      <td>Children</td>\n",
       "      <td>12-May-2015</td>\n",
       "      <td>dianaromabiz@gmail.com</td>\n",
       "      <td>United States</td>\n",
       "    </tr>\n",
       "  </tbody>\n",
       "</table>\n",
       "</div>"
      ],
      "text/plain": [
       "        Channel Name Subscribers  No. of Videos  No. of Views  \\\n",
       "0      Vlad and Niki         87M            487  6.838135e+10   \n",
       "1  Zee Music Company       88.2M           6968  5.035302e+10   \n",
       "2                WWE       91.1M          64096  7.162075e+10   \n",
       "3        Like Nastya        101M            417  8.397613e+10   \n",
       "4    Kids Diana Show        101M           1021  8.209697e+10   \n",
       "\n",
       "             Category            Audience   Start Date  \\\n",
       "0  Children Adventure            Children  23-Apr-2018   \n",
       "1               Music              Adults  12-Mar-2014   \n",
       "2          Wrestling   Adults and Old age  11-May-2007   \n",
       "3     Kids Adventures            Children   6-Dec-2016   \n",
       "4  Children Adventure            Children  12-May-2015   \n",
       "\n",
       "                              Email Current Location  \n",
       "0  vladandniki@underscoretalent.com    United States  \n",
       "1                               NaN            India  \n",
       "2                               NaN    United States  \n",
       "3               info@likenastya.com    United States  \n",
       "4            dianaromabiz@gmail.com    United States  "
      ]
     },
     "execution_count": 3,
     "metadata": {},
     "output_type": "execute_result"
    }
   ],
   "source": [
    "#display top 5 rows\n",
    "read_data.head()"
   ]
  },
  {
   "cell_type": "code",
   "execution_count": 28,
   "metadata": {},
   "outputs": [],
   "source": [
    "# which country use more youtube\n",
    "country_percentage = read_data.groupby(['Current Location'])['Current Location'].count()*100/read_data['Current Location'].count()"
   ]
  },
  {
   "cell_type": "code",
   "execution_count": 74,
   "metadata": {
    "scrolled": false
   },
   "outputs": [
    {
     "data": {
      "text/plain": [
       "Current Location\n",
       "India            30.0\n",
       "Japan            10.0\n",
       "United States    60.0\n",
       "Name: Current Location, dtype: float64"
      ]
     },
     "metadata": {},
     "output_type": "display_data"
    }
   ],
   "source": [
    "display(country_percentage)"
   ]
  },
  {
   "cell_type": "code",
   "execution_count": 90,
   "metadata": {},
   "outputs": [
    {
     "data": {
      "text/plain": [
       "<matplotlib.axes._subplots.AxesSubplot at 0x2171fb2d5c0>"
      ]
     },
     "execution_count": 90,
     "metadata": {},
     "output_type": "execute_result"
    },
    {
     "data": {
      "image/png": "[encoded data removed]",
      "text/plain": [
       "<Figure size 432x288 with 1 Axes>"
      ]
     },
     "metadata": {},
     "output_type": "display_data"
    }
   ],
   "source": [
    "country_percentage.plot(kind='pie', autopct='%1.0f%%',label=\"\")"
   ]
  },
  {
   "cell_type": "code",
   "execution_count": 48,
   "metadata": {},
   "outputs": [],
   "source": [
    "#Which type of content people want to watch\n",
    "content = read_data.groupby(['Category'])['Category'].count()"
   ]
  },
  {
   "cell_type": "code",
   "execution_count": 50,
   "metadata": {},
   "outputs": [
    {
     "data": {
      "text/plain": [
       "<matplotlib.axes._subplots.AxesSubplot at 0x2171e221f60>"
      ]
     },
     "execution_count": 50,
     "metadata": {},
     "output_type": "execute_result"
    },
    {
     "data": {
      "image/png": "[encoded data removed]",
      "text/plain": [
       "<Figure size 432x288 with 1 Axes>"
      ]
     },
     "metadata": {
      "needs_background": "light"
     },
     "output_type": "display_data"
    }
   ],
   "source": [
    "content.plot(kind = 'bar')"
   ]
  },
  {
   "cell_type": "code",
   "execution_count": 51,
   "metadata": {},
   "outputs": [],
   "source": [
    "#Which age use more social media\n",
    "audience = read_data.groupby(['Audience'])['Audience'].count()"
   ]
  },
  {
   "cell_type": "code",
   "execution_count": 52,
   "metadata": {},
   "outputs": [
    {
     "data": {
      "text/plain": [
       "<matplotlib.axes._subplots.AxesSubplot at 0x2171e297630>"
      ]
     },
     "execution_count": 52,
     "metadata": {},
     "output_type": "execute_result"
    },
    {
     "data": {
      "image/png": "[encoded data removed]",
      "text/plain": [
       "<Figure size 432x288 with 1 Axes>"
      ]
     },
     "metadata": {
      "needs_background": "light"
     },
     "output_type": "display_data"
    }
   ],
   "source": [
    "audience.plot(kind = 'bar')"
   ]
  },
  {
   "cell_type": "code",
   "execution_count": 78,
   "metadata": {},
   "outputs": [],
   "source": [
    "#What is the top trending channel\n",
    "trending=read_data.groupby(['Channel Name']).agg({'No. of Views':'sum'}).sort_values('No. of Views',ascending=False)"
   ]
  },
  {
   "cell_type": "code",
   "execution_count": 79,
   "metadata": {},
   "outputs": [
    {
     "data": {
      "text/html": [
       "<div>\n",
       "<style scoped>\n",
       "    .dataframe tbody tr th:only-of-type {\n",
       "        vertical-align: middle;\n",
       "    }\n",
       "\n",
       "    .dataframe tbody tr th {\n",
       "        vertical-align: top;\n",
       "    }\n",
       "\n",
       "    .dataframe thead th {\n",
       "        text-align: right;\n",
       "    }\n",
       "</style>\n",
       "<table border=\"1\" class=\"dataframe\">\n",
       "  <thead>\n",
       "    <tr style=\"text-align: right;\">\n",
       "      <th></th>\n",
       "      <th>No. of Views</th>\n",
       "    </tr>\n",
       "    <tr>\n",
       "      <th>Channel Name</th>\n",
       "      <th></th>\n",
       "    </tr>\n",
       "  </thead>\n",
       "  <tbody>\n",
       "    <tr>\n",
       "      <th>T-Series</th>\n",
       "      <td>2.028190e+11</td>\n",
       "    </tr>\n",
       "    <tr>\n",
       "      <th>Cocomelon</th>\n",
       "      <td>1.396170e+11</td>\n",
       "    </tr>\n",
       "    <tr>\n",
       "      <th>Set India</th>\n",
       "      <td>1.300430e+11</td>\n",
       "    </tr>\n",
       "    <tr>\n",
       "      <th>Like Nastya</th>\n",
       "      <td>8.397613e+10</td>\n",
       "    </tr>\n",
       "    <tr>\n",
       "      <th>Kids Diana Show</th>\n",
       "      <td>8.209697e+10</td>\n",
       "    </tr>\n",
       "    <tr>\n",
       "      <th>WWE</th>\n",
       "      <td>7.162075e+10</td>\n",
       "    </tr>\n",
       "    <tr>\n",
       "      <th>Vlad and Niki</th>\n",
       "      <td>6.838135e+10</td>\n",
       "    </tr>\n",
       "    <tr>\n",
       "      <th>Zee Music Company</th>\n",
       "      <td>5.035302e+10</td>\n",
       "    </tr>\n",
       "    <tr>\n",
       "      <th>PewDiePie</th>\n",
       "      <td>2.853276e+10</td>\n",
       "    </tr>\n",
       "    <tr>\n",
       "      <th>MrBeast</th>\n",
       "      <td>1.741266e+10</td>\n",
       "    </tr>\n",
       "  </tbody>\n",
       "</table>\n",
       "</div>"
      ],
      "text/plain": [
       "                   No. of Views\n",
       "Channel Name                   \n",
       "T-Series           2.028190e+11\n",
       "Cocomelon          1.396170e+11\n",
       "Set India          1.300430e+11\n",
       "Like Nastya        8.397613e+10\n",
       "Kids Diana Show    8.209697e+10\n",
       "WWE                7.162075e+10\n",
       "Vlad and Niki      6.838135e+10\n",
       "Zee Music Company  5.035302e+10\n",
       "PewDiePie          2.853276e+10\n",
       "MrBeast            1.741266e+10"
      ]
     },
     "metadata": {},
     "output_type": "display_data"
    }
   ],
   "source": [
    "display(trending)"
   ]
  },
  {
   "cell_type": "code",
   "execution_count": 98,
   "metadata": {},
   "outputs": [
    {
     "data": {
      "text/plain": [
       "array([<matplotlib.axes._subplots.AxesSubplot object at 0x000002171FCF7F98>],\n",
       "      dtype=object)"
      ]
     },
     "execution_count": 98,
     "metadata": {},
     "output_type": "execute_result"
    },
    {
     "data": {
      "image/png": "[encoded data removed]",
      "text/plain": [
       "<Figure size 432x288 with 1 Axes>"
      ]
     },
     "metadata": {},
     "output_type": "display_data"
    }
   ],
   "source": [
    "trending.plot(kind='pie',label=\"\",autopct='%1.0f%%',legend=False,subplots=True)"
   ]
  },
  {
   "cell_type": "code",
   "execution_count": 104,
   "metadata": {},
   "outputs": [],
   "source": [
    "#Channel with 1000+ videos \n",
    "channel = read_data.where(read_data['No. of Videos']>=1000,  )"
   ]
  },
  {
   "cell_type": "code",
   "execution_count": 106,
   "metadata": {},
   "outputs": [],
   "source": [
    "# Drop rows that has all Nan Values\n",
    "df = channel.dropna(how='all')"
   ]
  },
  {
   "cell_type": "code",
   "execution_count": 113,
   "metadata": {},
   "outputs": [
    {
     "data": {
      "text/html": [
       "<div>\n",
       "<style scoped>\n",
       "    .dataframe tbody tr th:only-of-type {\n",
       "        vertical-align: middle;\n",
       "    }\n",
       "\n",
       "    .dataframe tbody tr th {\n",
       "        vertical-align: top;\n",
       "    }\n",
       "\n",
       "    .dataframe thead th {\n",
       "        text-align: right;\n",
       "    }\n",
       "</style>\n",
       "<table border=\"1\" class=\"dataframe\">\n",
       "  <thead>\n",
       "    <tr style=\"text-align: right;\">\n",
       "      <th></th>\n",
       "      <th>Channel Name</th>\n",
       "      <th>No. of Videos</th>\n",
       "    </tr>\n",
       "  </thead>\n",
       "  <tbody>\n",
       "    <tr>\n",
       "      <th>1</th>\n",
       "      <td>Zee Music Company</td>\n",
       "      <td>6968.0</td>\n",
       "    </tr>\n",
       "    <tr>\n",
       "      <th>2</th>\n",
       "      <td>WWE</td>\n",
       "      <td>64096.0</td>\n",
       "    </tr>\n",
       "    <tr>\n",
       "      <th>4</th>\n",
       "      <td>Kids Diana Show</td>\n",
       "      <td>1021.0</td>\n",
       "    </tr>\n",
       "    <tr>\n",
       "      <th>6</th>\n",
       "      <td>PewDiePie</td>\n",
       "      <td>4506.0</td>\n",
       "    </tr>\n",
       "    <tr>\n",
       "      <th>7</th>\n",
       "      <td>Set India</td>\n",
       "      <td>95050.0</td>\n",
       "    </tr>\n",
       "    <tr>\n",
       "      <th>9</th>\n",
       "      <td>T-Series</td>\n",
       "      <td>17514.0</td>\n",
       "    </tr>\n",
       "  </tbody>\n",
       "</table>\n",
       "</div>"
      ],
      "text/plain": [
       "        Channel Name  No. of Videos\n",
       "1  Zee Music Company         6968.0\n",
       "2                WWE        64096.0\n",
       "4    Kids Diana Show         1021.0\n",
       "6          PewDiePie         4506.0\n",
       "7          Set India        95050.0\n",
       "9           T-Series        17514.0"
      ]
     },
     "execution_count": 113,
     "metadata": {},
     "output_type": "execute_result"
    }
   ],
   "source": [
    "df[['Channel Name','No. of Videos']]"
   ]
  }
 ],
 "metadata": {
  "kernelspec": {
   "display_name": "Python 3",
   "language": "python",
   "name": "python3"
  },
  "language_info": {
   "codemirror_mode": {
    "name": "ipython",
    "version": 3
   },
   "file_extension": ".py",
   "mimetype": "text/x-python",
   "name": "python",
   "nbconvert_exporter": "python",
   "pygments_lexer": "ipython3",
   "version": "3.7.3"
  }
 },
 "nbformat": 4,
 "nbformat_minor": 2
}
